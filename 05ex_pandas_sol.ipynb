{
 "cells": [
  {
   "cell_type": "markdown",
   "metadata": {},
   "source": [
    "1\\. **Pandas DataFrame**\n",
    "\n",
    "This exercise consists in analyzing a dataset containg timing information from a series of Time-to-Digital-Converters (TDC) implemented in a pair of FPGAs. Each measurement (i.e. each row of the input file) consists of a flag that specifies the type of message ('HEAD', which in this case is always 1), two addresses of the TDC providing the signal ('FPGA' and 'TDC_CHANNEL'), and the timing information ('ORBIT_CNT', 'BX_COUNTER', and 'TDC_MEAS'). Each TDC count corresponds to 25/30 ns, whereas a unit of BX_COUNTER corresponds to 25 ns, and the ORBIT_CNT is increased every `x` BX_COUNTER. This allows to store the time in a similar way to hours, minutes and seconds."
   ]
  },
  {
   "cell_type": "code",
   "execution_count": 5,
   "metadata": {},
   "outputs": [
    {
     "name": "stdout",
     "output_type": "stream",
     "text": [
      "--2022-12-02 22:28:35--  https://www.dropbox.com/s/xvjzaxzz3ysphme/data_000637.txt\n",
      "Resolving www.dropbox.com (www.dropbox.com)... 162.125.69.18\n",
      "Connecting to www.dropbox.com (www.dropbox.com)|162.125.69.18|:443... connected.\n",
      "HTTP request sent, awaiting response... 302 Found\n",
      "Location: /s/raw/xvjzaxzz3ysphme/data_000637.txt [following]\n",
      "--2022-12-02 22:28:35--  https://www.dropbox.com/s/raw/xvjzaxzz3ysphme/data_000637.txt\n",
      "Reusing existing connection to www.dropbox.com:443.\n",
      "HTTP request sent, awaiting response... 302 Found\n",
      "Location: https://ucaa447f10041362eb8a3bc85f54.dl.dropboxusercontent.com/cd/0/inline/Bx5rWs_rAVYJbvcUr7Q97b3PTxC9nJH3mifcaR0nYS4CgUL_nJOhEd6zqqNDAf7RR0UbYMmn3YQlIdZstgEj2l80TZCL8NifAEnrv-UlzCl4ynogvnQ4jcT6OHoQOawJDjCIYUJrwByGDuM8zmMDo0-B2bghKFAlG9gvp6BhXeJy7Q/file# [following]\n",
      "--2022-12-02 22:28:36--  https://ucaa447f10041362eb8a3bc85f54.dl.dropboxusercontent.com/cd/0/inline/Bx5rWs_rAVYJbvcUr7Q97b3PTxC9nJH3mifcaR0nYS4CgUL_nJOhEd6zqqNDAf7RR0UbYMmn3YQlIdZstgEj2l80TZCL8NifAEnrv-UlzCl4ynogvnQ4jcT6OHoQOawJDjCIYUJrwByGDuM8zmMDo0-B2bghKFAlG9gvp6BhXeJy7Q/file\n",
      "Resolving ucaa447f10041362eb8a3bc85f54.dl.dropboxusercontent.com (ucaa447f10041362eb8a3bc85f54.dl.dropboxusercontent.com)... 162.125.69.15\n",
      "Connecting to ucaa447f10041362eb8a3bc85f54.dl.dropboxusercontent.com (ucaa447f10041362eb8a3bc85f54.dl.dropboxusercontent.com)|162.125.69.15|:443... connected.\n",
      "HTTP request sent, awaiting response... 200 OK\n",
      "Length: 33179236 (32M) [text/plain]\n",
      "Saving to: ‘./data/data_000637.txt.2’\n",
      "\n",
      "data_000637.txt.2   100%[===================>]  31,64M  8,89MB/s    in 3,6s    \n",
      "\n",
      "2022-12-02 22:28:40 (8,88 MB/s) - ‘./data/data_000637.txt.2’ saved [33179236/33179236]\n",
      "\n"
     ]
    }
   ],
   "source": [
    "# If haven't downloaded it yet, please get the data file with wget\n",
    "!wget https://www.dropbox.com/s/xvjzaxzz3ysphme/data_000637.txt -P ./data/"
   ]
  },
  {
   "cell_type": "markdown",
   "metadata": {},
   "source": [
    "1\\. Create a Pandas DataFrame reading N rows of the `data/data_000637.txt` dataset. Choose N to be smaller than or equal to the maximum number of rows and larger than 10k (check the documentation)."
   ]
  },
  {
   "cell_type": "code",
   "execution_count": 6,
   "metadata": {},
   "outputs": [
    {
     "name": "stdout",
     "output_type": "stream",
     "text": [
      "1.Create a Pandas DataFrame reading N rows of the `data/data_000637.txt` dataset\n",
      "Print the first 5 rows of the DataFrame\n",
      "   HEAD  FPGA  TDC_CHANNEL   ORBIT_CNT  BX_COUNTER  TDC_MEAS\n",
      "0     1     0          123  3869200167        2374        26\n",
      "1     1     0          124  3869200167        2374        27\n",
      "2     1     0           63  3869200167        2553        28\n",
      "3     1     0           64  3869200167        2558        19\n",
      "4     1     0           64  3869200167        2760        25\n",
      "Print all the rows of the DataFrame\n",
      "         HEAD  FPGA  TDC_CHANNEL   ORBIT_CNT  BX_COUNTER  TDC_MEAS\n",
      "0           1     0          123  3869200167        2374        26\n",
      "1           1     0          124  3869200167        2374        27\n",
      "2           1     0           63  3869200167        2553        28\n",
      "3           1     0           64  3869200167        2558        19\n",
      "4           1     0           64  3869200167        2760        25\n",
      "...       ...   ...          ...         ...         ...       ...\n",
      "1310715     1     0           62  3869211171         762        14\n",
      "1310716     1     1            4  3869211171         763        11\n",
      "1310717     1     0           64  3869211171         764         0\n",
      "1310718     1     0          139  3869211171         769         0\n",
      "1310719     1     0           61  3869211171         762        18\n",
      "\n",
      "[1310720 rows x 6 columns]\n",
      "Print the 19999 rows of the DataFrame\n",
      "       HEAD  FPGA  TDC_CHANNEL   ORBIT_CNT  BX_COUNTER  TDC_MEAS\n",
      "0         1     0          123  3869200167        2374        26\n",
      "1         1     0          124  3869200167        2374        27\n",
      "2         1     0           63  3869200167        2553        28\n",
      "3         1     0           64  3869200167        2558        19\n",
      "4         1     0           64  3869200167        2760        25\n",
      "...     ...   ...          ...         ...         ...       ...\n",
      "19994     1     0           21  3869200366        2513        23\n",
      "19995     1     0           27  3869200366        2513        29\n",
      "19996     1     0           63  3869200366        2517         6\n",
      "19997     1     0           32  3869200366        2519         5\n",
      "19998     1     0           17  3869200366        2522        21\n",
      "\n",
      "[19999 rows x 6 columns]\n"
     ]
    }
   ],
   "source": [
    "import pandas as pd # standard naming convention\n",
    "import numpy as np\n",
    "df = pd.read_csv('./data/data_000637.txt')\n",
    "df = pd.DataFrame(df)\n",
    "\n",
    "def load_data(df,N):\n",
    "    print(\"1.Create a Pandas DataFrame reading N rows of the `data/data_000637.txt` dataset\")\n",
    "    print(\"Print the first 5 rows of the DataFrame\")\n",
    "    print(df.head(5))\n",
    "    max_length = len(df)\n",
    "    print('Print all the rows of the DataFrame')\n",
    "    print(df.head(max_length))\n",
    "    print('Print the 19999 rows of the DataFrame')\n",
    "    print(df.head(19999))\n",
    "\n",
    "load_data(df,N=5)\n"
   ]
  },
  {
   "cell_type": "markdown",
   "metadata": {},
   "source": [
    "2\\. Estimate the number of BX in a ORBIT (the value `x`).\n",
    "\n",
    "*Hint*: check when the BX counter reaches the maximum value before being reset to 0."
   ]
  },
  {
   "cell_type": "code",
   "execution_count": 7,
   "metadata": {},
   "outputs": [
    {
     "name": "stdout",
     "output_type": "stream",
     "text": [
      "2. Estimate the number of BX in a ORBIT, the value x\n",
      "x value is: 3564\n"
     ]
    }
   ],
   "source": [
    "def estimateNumberBX(df):\n",
    "    print(\"2. Estimate the number of BX in a ORBIT, the value x\")\n",
    "    m = df.loc[df['BX_COUNTER']. idxmax()]\n",
    "    #print(m)\n",
    "    n = df.loc[df['BX_COUNTER']. idxmin()]\n",
    "    #print(n)\n",
    "    x = m.BX_COUNTER - n.BX_COUNTER + 1\n",
    "    print('x value is:',x)\n",
    "\n",
    "estimateNumberBX(df)"
   ]
  },
  {
   "cell_type": "markdown",
   "metadata": {},
   "source": [
    "3\\. Create a new column with the absolute time in ns (as a combination of the other three columns with timing information) since the beginning of the data acquisition, and convert the new column to a Time Series."
   ]
  },
  {
   "cell_type": "code",
   "execution_count": 9,
   "metadata": {},
   "outputs": [
    {
     "name": "stdout",
     "output_type": "stream",
     "text": [
      "3.Create a new column `absolute time` in ns, and convert the new column to a Time Series\n"
     ]
    }
   ],
   "source": [
    "\n",
    "def estimateNumberOrbit(df):\n",
    "\n",
    "    print(\"3.Create a new column `absolute time` in ns, and convert the new column to a Time Series\")\n",
    "    #df.drop('ABSOLUTE TIME', inplace=True, axis=1)\n",
    "    df.insert(6, \"ABSOLUTE TIME\",df['ORBIT_CNT'] * 3564 * 25 + df['BX_COUNTER'] * 25 + df['TDC_MEAS'] * 25 / 30)\n",
    "    df['TIME SERIES'] = pd.to_datetime(df['ABSOLUTE TIME'], unit='ns')\n",
    "    df.to_csv('absolute_time.csv', index=False)\n",
    "\n",
    "estimateNumberOrbit(df)\n",
    "\n",
    "\n",
    "   \n"
   ]
  },
  {
   "cell_type": "code",
   "execution_count": null,
   "metadata": {},
   "outputs": [
    {
     "data": {
      "text/html": [
       "<div>\n",
       "<style scoped>\n",
       "    .dataframe tbody tr th:only-of-type {\n",
       "        vertical-align: middle;\n",
       "    }\n",
       "\n",
       "    .dataframe tbody tr th {\n",
       "        vertical-align: top;\n",
       "    }\n",
       "\n",
       "    .dataframe thead th {\n",
       "        text-align: right;\n",
       "    }\n",
       "</style>\n",
       "<table border=\"1\" class=\"dataframe\">\n",
       "  <thead>\n",
       "    <tr style=\"text-align: right;\">\n",
       "      <th></th>\n",
       "      <th>HEAD</th>\n",
       "      <th>FPGA</th>\n",
       "      <th>TDC_CHANNEL</th>\n",
       "      <th>ORBIT_CNT</th>\n",
       "      <th>BX_COUNTER</th>\n",
       "      <th>TDC_MEAS</th>\n",
       "      <th>ABSOLUTE TIME</th>\n",
       "      <th>TIME SERIES</th>\n",
       "    </tr>\n",
       "  </thead>\n",
       "  <tbody>\n",
       "    <tr>\n",
       "      <th>0</th>\n",
       "      <td>1</td>\n",
       "      <td>0</td>\n",
       "      <td>123</td>\n",
       "      <td>3869200167</td>\n",
       "      <td>2374</td>\n",
       "      <td>26</td>\n",
       "      <td>3.447457e+14</td>\n",
       "      <td>1970-01-04 23:45:45.734939071</td>\n",
       "    </tr>\n",
       "    <tr>\n",
       "      <th>1</th>\n",
       "      <td>1</td>\n",
       "      <td>0</td>\n",
       "      <td>124</td>\n",
       "      <td>3869200167</td>\n",
       "      <td>2374</td>\n",
       "      <td>27</td>\n",
       "      <td>3.447457e+14</td>\n",
       "      <td>1970-01-04 23:45:45.734939072</td>\n",
       "    </tr>\n",
       "    <tr>\n",
       "      <th>2</th>\n",
       "      <td>1</td>\n",
       "      <td>0</td>\n",
       "      <td>63</td>\n",
       "      <td>3869200167</td>\n",
       "      <td>2553</td>\n",
       "      <td>28</td>\n",
       "      <td>3.447457e+14</td>\n",
       "      <td>1970-01-04 23:45:45.734943548</td>\n",
       "    </tr>\n",
       "    <tr>\n",
       "      <th>3</th>\n",
       "      <td>1</td>\n",
       "      <td>0</td>\n",
       "      <td>64</td>\n",
       "      <td>3869200167</td>\n",
       "      <td>2558</td>\n",
       "      <td>19</td>\n",
       "      <td>3.447457e+14</td>\n",
       "      <td>1970-01-04 23:45:45.734943665</td>\n",
       "    </tr>\n",
       "    <tr>\n",
       "      <th>4</th>\n",
       "      <td>1</td>\n",
       "      <td>0</td>\n",
       "      <td>64</td>\n",
       "      <td>3869200167</td>\n",
       "      <td>2760</td>\n",
       "      <td>25</td>\n",
       "      <td>3.447457e+14</td>\n",
       "      <td>1970-01-04 23:45:45.734948720</td>\n",
       "    </tr>\n",
       "    <tr>\n",
       "      <th>5</th>\n",
       "      <td>1</td>\n",
       "      <td>0</td>\n",
       "      <td>63</td>\n",
       "      <td>3869200167</td>\n",
       "      <td>2762</td>\n",
       "      <td>4</td>\n",
       "      <td>3.447457e+14</td>\n",
       "      <td>1970-01-04 23:45:45.734948753</td>\n",
       "    </tr>\n",
       "    <tr>\n",
       "      <th>6</th>\n",
       "      <td>1</td>\n",
       "      <td>0</td>\n",
       "      <td>61</td>\n",
       "      <td>3869200167</td>\n",
       "      <td>2772</td>\n",
       "      <td>14</td>\n",
       "      <td>3.447457e+14</td>\n",
       "      <td>1970-01-04 23:45:45.734949011</td>\n",
       "    </tr>\n",
       "    <tr>\n",
       "      <th>7</th>\n",
       "      <td>1</td>\n",
       "      <td>0</td>\n",
       "      <td>139</td>\n",
       "      <td>3869200167</td>\n",
       "      <td>2776</td>\n",
       "      <td>0</td>\n",
       "      <td>3.447457e+14</td>\n",
       "      <td>1970-01-04 23:45:45.734949100</td>\n",
       "    </tr>\n",
       "    <tr>\n",
       "      <th>8</th>\n",
       "      <td>1</td>\n",
       "      <td>0</td>\n",
       "      <td>62</td>\n",
       "      <td>3869200167</td>\n",
       "      <td>2774</td>\n",
       "      <td>21</td>\n",
       "      <td>3.447457e+14</td>\n",
       "      <td>1970-01-04 23:45:45.734949067</td>\n",
       "    </tr>\n",
       "    <tr>\n",
       "      <th>9</th>\n",
       "      <td>1</td>\n",
       "      <td>0</td>\n",
       "      <td>60</td>\n",
       "      <td>3869200167</td>\n",
       "      <td>2788</td>\n",
       "      <td>7</td>\n",
       "      <td>3.447457e+14</td>\n",
       "      <td>1970-01-04 23:45:45.734949405</td>\n",
       "    </tr>\n",
       "    <tr>\n",
       "      <th>10</th>\n",
       "      <td>1</td>\n",
       "      <td>1</td>\n",
       "      <td>7</td>\n",
       "      <td>3869200167</td>\n",
       "      <td>2785</td>\n",
       "      <td>4</td>\n",
       "      <td>3.447457e+14</td>\n",
       "      <td>1970-01-04 23:45:45.734949328</td>\n",
       "    </tr>\n",
       "    <tr>\n",
       "      <th>11</th>\n",
       "      <td>1</td>\n",
       "      <td>0</td>\n",
       "      <td>64</td>\n",
       "      <td>3869200167</td>\n",
       "      <td>2786</td>\n",
       "      <td>19</td>\n",
       "      <td>3.447457e+14</td>\n",
       "      <td>1970-01-04 23:45:45.734949365</td>\n",
       "    </tr>\n",
       "    <tr>\n",
       "      <th>12</th>\n",
       "      <td>1</td>\n",
       "      <td>1</td>\n",
       "      <td>6</td>\n",
       "      <td>3869200167</td>\n",
       "      <td>2792</td>\n",
       "      <td>18</td>\n",
       "      <td>3.447457e+14</td>\n",
       "      <td>1970-01-04 23:45:45.734949515</td>\n",
       "    </tr>\n",
       "    <tr>\n",
       "      <th>13</th>\n",
       "      <td>1</td>\n",
       "      <td>0</td>\n",
       "      <td>36</td>\n",
       "      <td>3869200167</td>\n",
       "      <td>2791</td>\n",
       "      <td>23</td>\n",
       "      <td>3.447457e+14</td>\n",
       "      <td>1970-01-04 23:45:45.734949494</td>\n",
       "    </tr>\n",
       "    <tr>\n",
       "      <th>14</th>\n",
       "      <td>1</td>\n",
       "      <td>0</td>\n",
       "      <td>56</td>\n",
       "      <td>3869200167</td>\n",
       "      <td>2789</td>\n",
       "      <td>3</td>\n",
       "      <td>3.447457e+14</td>\n",
       "      <td>1970-01-04 23:45:45.734949427</td>\n",
       "    </tr>\n",
       "  </tbody>\n",
       "</table>\n",
       "</div>"
      ],
      "text/plain": [
       "    HEAD  FPGA  TDC_CHANNEL   ORBIT_CNT  BX_COUNTER  TDC_MEAS  ABSOLUTE TIME  \\\n",
       "0      1     0          123  3869200167        2374        26   3.447457e+14   \n",
       "1      1     0          124  3869200167        2374        27   3.447457e+14   \n",
       "2      1     0           63  3869200167        2553        28   3.447457e+14   \n",
       "3      1     0           64  3869200167        2558        19   3.447457e+14   \n",
       "4      1     0           64  3869200167        2760        25   3.447457e+14   \n",
       "5      1     0           63  3869200167        2762         4   3.447457e+14   \n",
       "6      1     0           61  3869200167        2772        14   3.447457e+14   \n",
       "7      1     0          139  3869200167        2776         0   3.447457e+14   \n",
       "8      1     0           62  3869200167        2774        21   3.447457e+14   \n",
       "9      1     0           60  3869200167        2788         7   3.447457e+14   \n",
       "10     1     1            7  3869200167        2785         4   3.447457e+14   \n",
       "11     1     0           64  3869200167        2786        19   3.447457e+14   \n",
       "12     1     1            6  3869200167        2792        18   3.447457e+14   \n",
       "13     1     0           36  3869200167        2791        23   3.447457e+14   \n",
       "14     1     0           56  3869200167        2789         3   3.447457e+14   \n",
       "\n",
       "                      TIME SERIES  \n",
       "0   1970-01-04 23:45:45.734939071  \n",
       "1   1970-01-04 23:45:45.734939072  \n",
       "2   1970-01-04 23:45:45.734943548  \n",
       "3   1970-01-04 23:45:45.734943665  \n",
       "4   1970-01-04 23:45:45.734948720  \n",
       "5   1970-01-04 23:45:45.734948753  \n",
       "6   1970-01-04 23:45:45.734949011  \n",
       "7   1970-01-04 23:45:45.734949100  \n",
       "8   1970-01-04 23:45:45.734949067  \n",
       "9   1970-01-04 23:45:45.734949405  \n",
       "10  1970-01-04 23:45:45.734949328  \n",
       "11  1970-01-04 23:45:45.734949365  \n",
       "12  1970-01-04 23:45:45.734949515  \n",
       "13  1970-01-04 23:45:45.734949494  \n",
       "14  1970-01-04 23:45:45.734949427  "
      ]
     },
     "execution_count": 32,
     "metadata": {},
     "output_type": "execute_result"
    }
   ],
   "source": [
    "df2= pd.read_csv('absolute_time.csv')\n",
    "df2 = pd.DataFrame(df2)\n",
    "df2.head(15)"
   ]
  },
  {
   "cell_type": "markdown",
   "metadata": {},
   "source": [
    "4\\. Find out the duration of the data taking in hours, minutes and seconds, by using the features of the Time Series. Perform this check reading the whole dataset."
   ]
  },
  {
   "cell_type": "code",
   "execution_count": null,
   "metadata": {},
   "outputs": [
    {
     "name": "stdout",
     "output_type": "stream",
     "text": [
      "4. Estimate the duration of the data in seconds\n",
      "The duration of the run in seconds is: 0.9804162533125\n",
      "The duration of the run in minutes is: 0.016340270888541668\n",
      "The duration of the run in hours is: 0.00027233784814236113\n"
     ]
    }
   ],
   "source": [
    "def duration(df2):\n",
    "    print(\"4. Estimate the duration of the data in seconds\")\n",
    "    max_length = len(df2)\n",
    "    m = df2.loc[df2['ABSOLUTE TIME']. idxmax()]\n",
    "    n = df2.loc[df2['ABSOLUTE TIME']. idxmin()]\n",
    "    x = m['ABSOLUTE TIME'] - n['ABSOLUTE TIME']\n",
    "    print('The duration of the run in seconds is:',x/1000000000)\n",
    "    print('The duration of the run in minutes is:',x/1000000000/60)\n",
    "    print('The duration of the run in hours is:',x/1000000000/60/60)\n",
    "\n",
    "duration(df2)"
   ]
  },
  {
   "cell_type": "markdown",
   "metadata": {},
   "source": [
    "5\\. Use the `.groupby()` method to find out the noisy channels, i.e. the TDC channels with most counts (print to screen the top 3 and the corresponding counts)"
   ]
  },
  {
   "cell_type": "code",
   "execution_count": null,
   "metadata": {},
   "outputs": [
    {
     "name": "stdout",
     "output_type": "stream",
     "text": [
      "5. Estimate the number of noisy channels\n",
      "The number of noisy channels is: 133\n",
      "The top 3 noisy channels and their counts are:\n",
      "139    108059\n",
      "64      66020\n",
      "63      64642\n",
      "Name: TDC_CHANNEL, dtype: int64\n"
     ]
    }
   ],
   "source": [
    "def noisyChannel(df2):\n",
    "    print(\"5. Estimate the number of noisy channels\")\n",
    "    print('The number of noisy channels is:',len(df2['TDC_CHANNEL'].unique()))\n",
    "    print('The top 3 noisy channels and their counts are:',df2['TDC_CHANNEL'].value_counts().head(3),sep='\\n')\n",
    "noisyChannel(df2)"
   ]
  },
  {
   "cell_type": "markdown",
   "metadata": {},
   "source": [
    "6\\. Count the number of non-empty orbits (i.e. the number of orbits with at least one hit)."
   ]
  },
  {
   "cell_type": "code",
   "execution_count": null,
   "metadata": {},
   "outputs": [
    {
     "name": "stdout",
     "output_type": "stream",
     "text": [
      "6. Count the number of non-empty hits\n",
      "The number of non-empty hits is: 11001\n"
     ]
    }
   ],
   "source": [
    "def numberOfNonEmptyHits(df2):\n",
    "    print(\"6. Count the number of non-empty hits\")\n",
    "    m = len(df2['ORBIT_CNT'].unique())\n",
    "    print('The number of non-empty hits is:',m)\n",
    "\n",
    "\n",
    "numberOfNonEmptyHits(df2)"
   ]
  },
  {
   "cell_type": "markdown",
   "metadata": {},
   "source": [
    "7\\. Count the number of unique orbits with at least one measurement from TDC_CHANNEL=139."
   ]
  },
  {
   "cell_type": "code",
   "execution_count": null,
   "metadata": {},
   "outputs": [
    {
     "name": "stdout",
     "output_type": "stream",
     "text": [
      "7. Count the number of unique orbits\n",
      "The number of unique orbits is: 1624\n"
     ]
    }
   ],
   "source": [
    "def numberOfUniqueOrbits(df2):\n",
    "    print(\"7. Count the number of unique orbits\")\n",
    "    mask = ((df2['TDC_CHANNEL'] == 139) & (~df2['ORBIT_CNT'].duplicated()))\n",
    "    print('The number of unique orbits is:',df[mask].size)\n",
    "\n",
    "\n",
    "\n",
    "numberOfUniqueOrbits(df2)\n",
    "\n",
    "\n",
    "    "
   ]
  },
  {
   "cell_type": "markdown",
   "metadata": {},
   "source": [
    "8\\. Create two Series (one for each FPGA) that have the TDC channel as index, and the number of counts for the corresponding TDC channel as values."
   ]
  },
  {
   "cell_type": "code",
   "execution_count": null,
   "metadata": {},
   "outputs": [
    {
     "name": "stdout",
     "output_type": "stream",
     "text": [
      "8. Create two Series, one for each FPGA with the TDC channel as index, and one with number of counts for the corresponding TDC channel as values\n",
      "The first series is (FPGA equals to 0):\n",
      "139    75617\n",
      "64     64581\n",
      "63     63724\n",
      "61     48699\n",
      "62     48275\n",
      "       ...  \n",
      "130       33\n",
      "137       32\n",
      "30         4\n",
      "129        2\n",
      "39         1\n",
      "Name: TDC_CHANNEL, Length: 124, dtype: int64\n",
      "The second series is (FPGA equals to 1):\n",
      "2      32669\n",
      "139    32442\n",
      "1      28438\n",
      "4      26403\n",
      "3      21970\n",
      "       ...  \n",
      "9         80\n",
      "130       38\n",
      "138       36\n",
      "137       36\n",
      "129       35\n",
      "Name: TDC_CHANNEL, Length: 132, dtype: int64\n"
     ]
    },
    {
     "data": {
      "image/png": "[encoded data removed]",
      "text/plain": [
       "<Figure size 640x480 with 1 Axes>"
      ]
     },
     "metadata": {},
     "output_type": "display_data"
    },
    {
     "name": "stdout",
     "output_type": "stream",
     "text": [
      "\n",
      "\n"
     ]
    },
    {
     "data": {
      "image/png": "[encoded data removed]",
      "text/plain": [
       "<Figure size 640x480 with 1 Axes>"
      ]
     },
     "metadata": {},
     "output_type": "display_data"
    }
   ],
   "source": [
    "import matplotlib.pyplot as plt\n",
    "\n",
    "def twoSeries(df2):\n",
    "    print(\"8. Create two Series, one for each FPGA with the TDC channel as index, and one with number of counts for the corresponding TDC channel as values\")\n",
    "    F0 = pd.Series(df2[df2['FPGA']==0]['TDC_CHANNEL'].value_counts())\n",
    "    F1 = pd.Series(df2[df2['FPGA']==1]['TDC_CHANNEL'].value_counts())\n",
    "    print('The first series is (FPGA equals to 0):',F0,sep='\\n')\n",
    "    print('The second series is (FPGA equals to 1):',F1,sep='\\n')\n",
    "\n",
    "    plt.hist(F0)\n",
    "    plt.title('FPGA 0')\n",
    "    plt.xlabel('Number of counts')\n",
    "    plt.ylabel('TDC_CHANNEL')\n",
    "    plt.show()\n",
    "    \n",
    "    print(\"\\n\")\n",
    "    plt.hist(F1)\n",
    "    plt.title('FPGA 1')\n",
    "    plt.xlabel('Number of counts')\n",
    "    plt.ylabel('TDC_CHANNEL')\n",
    "    plt.show()\n",
    "\n",
    "    \n",
    "\n",
    "twoSeries(df2)"
   ]
  },
  {
   "cell_type": "markdown",
   "metadata": {},
   "source": [
    "9\\. **Optional:** Create two histograms (one for each FPGA) that show the number of counts for each TDC channel."
   ]
  }
 ],
 "metadata": {
  "kernelspec": {
   "display_name": "Python 3.10.8 ('ScientificComputingWithPython2022-ThNe_YWt')",
   "language": "python",
   "name": "python3"
  },
  "language_info": {
   "codemirror_mode": {
    "name": "ipython",
    "version": 3
   },
   "file_extension": ".py",
   "mimetype": "text/x-python",
   "name": "python",
   "nbconvert_exporter": "python",
   "pygments_lexer": "ipython3",
   "version": "3.10.8"
  },
  "vscode": {
   "interpreter": {
    "hash": "6d2726d78c6ce3fcc64c6214e2a6a88a90bc1b6a9fbfbe561604adaad5358887"
   }
  }
 },
 "nbformat": 4,
 "nbformat_minor": 2
}
