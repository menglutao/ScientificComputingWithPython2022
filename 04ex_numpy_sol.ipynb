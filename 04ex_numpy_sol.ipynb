{
 "cells": [
  {
   "cell_type": "markdown",
   "metadata": {},
   "source": [
    "1\\. **Reductions**\n",
    "\n",
    "Find the total mean, and the mean for each row and column of the following matrix:\n",
    "\n",
    "```python\n",
    "m = np.arange(12).reshape((3,4))\n",
    "```"
   ]
  },
  {
   "cell_type": "code",
   "execution_count": 1,
   "metadata": {},
   "outputs": [
    {
     "name": "stdout",
     "output_type": "stream",
     "text": [
      "Mean of matrix m is 5.5\n",
      "Mean of each row in matrix m is [1.5 5.5 9.5]\n",
      "Mean of each column in matrix m is [4. 5. 6. 7.]\n"
     ]
    }
   ],
   "source": [
    "import numpy as np\n",
    "m = np.arange(12).reshape((3,4))\n",
    "print(\"Mean of matrix m is {}\".format(np.mean(m)))\n",
    "#print(m)\n",
    "print(\"Mean of each row in matrix m is {}\".format(np.mean(m, axis=1)))\n",
    "print(\"Mean of each column in matrix m is {}\".format(np.mean(m, axis=0)))\n",
    "\n"
   ]
  },
  {
   "cell_type": "markdown",
   "metadata": {},
   "source": [
    "2\\. **Outer product**\n",
    "\n",
    "Find the outer product of the following vectors:\n",
    "\n",
    "```python\n",
    "u = np.array([1, 3, 5, 7])\n",
    "v = np.array([2, 4, 6, 8])\n",
    "```\n",
    "\n",
    "Use different methods to do this:\n",
    "\n",
    "   1. Using the function `outer` in numpy\n",
    "   2. Using a nested `for` loop or a list comprehension\n",
    "   3. Using numpy broadcasting operations"
   ]
  },
  {
   "cell_type": "code",
   "execution_count": 2,
   "metadata": {},
   "outputs": [
    {
     "name": "stdout",
     "output_type": "stream",
     "text": [
      "1.Compute the outer product of two vectors u and v using function outer in numpy\n",
      "[[ 2  4  6  8]\n",
      " [ 6 12 18 24]\n",
      " [10 20 30 40]\n",
      " [14 28 42 56]]\n",
      "2.Compute the outer product of two vectors u and v using list comprehension in numpy\n",
      "[[ 2  4  6  8]\n",
      " [ 6 12 18 24]\n",
      " [10 20 30 40]\n",
      " [14 28 42 56]]\n",
      "3.Compute the outer product of two vectors u and v using numpy broadcasting\n",
      "[[ 2  4  6  8]\n",
      " [ 6 12 18 24]\n",
      " [10 20 30 40]\n",
      " [14 28 42 56]]\n"
     ]
    }
   ],
   "source": [
    "def outerProduct(u,v):\n",
    "    print(\"1.Compute the outer product of two vectors u and v using function outer in numpy\")\n",
    "    print(np.outer(u,v))\n",
    "    print(\"2.Compute the outer product of two vectors u and v using list comprehension in numpy\")\n",
    "    print(np.array([[i*j for j in v] for i in u]))\n",
    "    print(\"3.Compute the outer product of two vectors u and v using numpy broadcasting\")\n",
    "    print(u[:,np.newaxis]*v)\n",
    "    return \n",
    "u = np.array([1, 3, 5, 7])\n",
    "v = np.array([2, 4, 6, 8])\n",
    "outerProduct(u,v)\n",
    "\n"
   ]
  },
  {
   "cell_type": "markdown",
   "metadata": {},
   "source": [
    "3\\. **Matrix masking**\n",
    "\n",
    "Create a 10 by 6 matrix of float random numbers, distributed between 0 and 3 according to a flat distribution.\n",
    "\n",
    "After creating the matrix, set all entries $< 0.3$ to zero using a mask."
   ]
  },
  {
   "cell_type": "code",
   "execution_count": 3,
   "metadata": {},
   "outputs": [
    {
     "name": "stdout",
     "output_type": "stream",
     "text": [
      "1.10 by 6 matrix of float random bumbers between 0 and 3\n",
      "[[1.79640012 2.70405234 1.53435212 0.76890271 1.27619184 1.60326152]\n",
      " [0.76605848 1.09721358 2.5443113  1.57927496 0.94554404 1.68841339]\n",
      " [1.78864505 2.7785666  0.36832353 2.75395745 1.01858751 2.06519596]\n",
      " [2.46361555 0.12340131 2.98099662 0.169223   0.6280743  2.24526477]\n",
      " [1.10300129 0.11581529 1.71460935 0.61158173 2.87953577 0.75014536]\n",
      " [2.86093405 2.55365969 1.30799953 2.87007497 0.03963251 2.06748017]\n",
      " [1.63575388 1.67939411 1.44492288 0.7751474  1.61430486 0.86882329]\n",
      " [0.72606487 0.11179452 1.37233087 2.41395845 0.84827762 2.02722338]\n",
      " [1.43764768 1.97127622 1.21425359 0.58755939 1.66418628 1.84685851]\n",
      " [2.86032855 2.26171782 1.6015461  2.63549018 1.7413621  1.0574867 ]]\n",
      "\n",
      "2.Masking the matrix m to get the elements smaller than 0.3\n",
      "[0.12340131 0.169223   0.11581529 0.03963251 0.11179452]\n",
      "\n"
     ]
    }
   ],
   "source": [
    "def matrixMasking():\n",
    "\n",
    "    m = 3 * np.random.random_sample((10,6))\n",
    "    print(\"1.10 by 6 matrix of float random bumbers between 0 and 3\")\n",
    "    print(m,end='\\n\\n')\n",
    "\n",
    "    print(\"2.Masking the matrix m to get the elements smaller than 0.3\")\n",
    "    print(m[m<0.3],end='\\n\\n')\n",
    "\n",
    "matrixMasking()"
   ]
  },
  {
   "cell_type": "markdown",
   "metadata": {},
   "source": [
    "4\\. **Trigonometric functions**\n",
    "\n",
    "Use `np.linspace` to create an array of 100 numbers between $0$ and $2\\pi$ (inclusive).\n",
    "\n",
    "  * Extract every 10th element using the slice notation\n",
    "  * Reverse the array using the slice notation\n",
    "  * Extract elements where the absolute difference between the `sin` and `cos` functions evaluated for that element is $< 0.1$\n",
    "  * **Optional**: make a plot showing the sin and cos functions and indicate where they are close"
   ]
  },
  {
   "cell_type": "code",
   "execution_count": 4,
   "metadata": {},
   "outputs": [
    {
     "name": "stdout",
     "output_type": "stream",
     "text": [
      "1. Extract every 10th element from m uing slice notation,starting from the first 10th element\n",
      "[0.         0.63466518 1.26933037 1.90399555 2.53866073 3.17332591\n",
      " 3.8079911  4.44265628 5.07732146 5.71198664]\n",
      "\n",
      "2. Reverse the array m\n",
      "[6.28318531 6.21971879 6.15625227 6.09278575 6.02931923 5.96585272\n",
      " 5.9023862  5.83891968 5.77545316 5.71198664 5.64852012 5.58505361\n",
      " 5.52158709 5.45812057 5.39465405 5.33118753 5.26772102 5.2042545\n",
      " 5.14078798 5.07732146 5.01385494 4.95038842 4.88692191 4.82345539\n",
      " 4.75998887 4.69652235 4.63305583 4.56958931 4.5061228  4.44265628\n",
      " 4.37918976 4.31572324 4.25225672 4.1887902  4.12532369 4.06185717\n",
      " 3.99839065 3.93492413 3.87145761 3.8079911  3.74452458 3.68105806\n",
      " 3.61759154 3.55412502 3.4906585  3.42719199 3.36372547 3.30025895\n",
      " 3.23679243 3.17332591 3.10985939 3.04639288 2.98292636 2.91945984\n",
      " 2.85599332 2.7925268  2.72906028 2.66559377 2.60212725 2.53866073\n",
      " 2.47519421 2.41172769 2.34826118 2.28479466 2.22132814 2.15786162\n",
      " 2.0943951  2.03092858 1.96746207 1.90399555 1.84052903 1.77706251\n",
      " 1.71359599 1.65012947 1.58666296 1.52319644 1.45972992 1.3962634\n",
      " 1.33279688 1.26933037 1.20586385 1.14239733 1.07893081 1.01546429\n",
      " 0.95199777 0.88853126 0.82506474 0.76159822 0.6981317  0.63466518\n",
      " 0.57119866 0.50773215 0.44426563 0.38079911 0.31733259 0.25386607\n",
      " 0.19039955 0.12693304 0.06346652 0.        ]\n",
      "\n",
      "3. Extract elements where whose sin and cos values difference is less than 0.1\n",
      "[0.76159822 0.82506474 3.87145761 3.93492413]\n",
      "\n",
      "4. Make a plot showing the sin and cos functions and incicate where they are close\n"
     ]
    },
    {
     "data": {
      "image/png": "[encoded data removed]",
      "text/plain": [
       "<Figure size 640x480 with 1 Axes>"
      ]
     },
     "metadata": {},
     "output_type": "display_data"
    }
   ],
   "source": [
    "import matplotlib.pyplot as plt\n",
    "def trigonomatricFunc():\n",
    "    m = np.linspace(0,2*np.pi,100)\n",
    "    #print(m)\n",
    "    print(\"1. Extract every 10th element from m uing slice notation,starting from the first 10th element\")\n",
    "    print(m[::10],end='\\n\\n')\n",
    "    print(\"2. Reverse the array m\")\n",
    "    print(m[::-1],end='\\n\\n')\n",
    "    print(\"3. Extract elements where whose sin and cos values difference is less than 0.1\")\n",
    "    filter = np.abs(np.sin(m)-np.cos(m))<0.1\n",
    "    #[0.76159822 0.82506474 3.87145761 3.93492413]\n",
    "    n = m[filter]\n",
    "    print(n,end='\\n\\n')\n",
    "    #print(\"-----------------\")\n",
    "    #print(np.sin(n))\n",
    "    #print(np.cos(n))\n",
    "    print(\"4. Make a plot showing the sin and cos functions and incicate where they are close\")\n",
    "    plt.plot(m,np.sin(m),label=\"sin\")\n",
    "    plt.plot(m,np.cos(m),label=\"cos\")\n",
    "    plt.plot(n,np.sin(n),label=\"close points\",marker=\"o\",linestyle=\"\")\n",
    "\n",
    "    plt.legend(loc='best')\n",
    "    plt.show()\n",
    "   \n",
    "\n",
    "\n",
    "trigonomatricFunc()\n"
   ]
  },
  {
   "cell_type": "markdown",
   "metadata": {},
   "source": [
    "5\\. **Matrices**\n",
    "\n",
    "Create a matrix that shows the 10 by 10 multiplication table.\n",
    "\n",
    " * Find the trace of the matrix\n",
    " * Extract the anti-diagonal matrix (this should be ```array([10, 18, 24, 28, 30, 30, 28, 24, 18, 10])```)\n",
    " * Extract the diagonal offset by 1 upwards (this should be ```array([ 2,  6, 12, 20, 30, 42, 56, 72, 90])```)"
   ]
  },
  {
   "cell_type": "code",
   "execution_count": 5,
   "metadata": {},
   "outputs": [
    {
     "name": "stdout",
     "output_type": "stream",
     "text": [
      "The 10 by 10 multiplication table is  [[  1   2   3   4   5   6   7   8   9  10]\n",
      " [  2   4   6   8  10  12  14  16  18  20]\n",
      " [  3   6   9  12  15  18  21  24  27  30]\n",
      " [  4   8  12  16  20  24  28  32  36  40]\n",
      " [  5  10  15  20  25  30  35  40  45  50]\n",
      " [  6  12  18  24  30  36  42  48  54  60]\n",
      " [  7  14  21  28  35  42  49  56  63  70]\n",
      " [  8  16  24  32  40  48  56  64  72  80]\n",
      " [  9  18  27  36  45  54  63  72  81  90]\n",
      " [ 10  20  30  40  50  60  70  80  90 100]]\n",
      "\n",
      "1. Compute the trace of the matrix \n",
      "385\n",
      "\n",
      "2. Extract the anti-diagonal matrix\n",
      "[10 18 24 28 30 30 28 24 18 10]\n",
      "\n",
      "3. Extract the diagonal offset by 1 upwards \n",
      "[ 2  6 12 20 30 42 56 72 90]\n",
      "\n"
     ]
    }
   ],
   "source": [
    "def matrices():\n",
    "    m = np.arange(1,11)\n",
    "    n = m[:, np.newaxis]\n",
    "    #print(m)\n",
    "    #print(n)\n",
    "    x = m * n\n",
    "    print(\"The 10 by 10 multiplication table is \",x,end='\\n\\n')\n",
    "    print(\"1. Compute the trace of the matrix \")\n",
    "    print(np.trace(x),end='\\n\\n')\n",
    "    print(\"2. Extract the anti-diagonal matrix\")\n",
    "    print(np.fliplr(x).diagonal(),end='\\n\\n')\n",
    "    print(\"3. Extract the diagonal offset by 1 upwards \")\n",
    "    print(np.delete(x,0,0).diagonal(),end='\\n\\n')\n",
    "\n",
    "\n",
    "\n",
    "matrices()"
   ]
  },
  {
   "cell_type": "markdown",
   "metadata": {},
   "source": [
    "6\\. **Broadcasting**\n",
    "\n",
    "Use broadcasting to create a grid of distances.\n",
    "\n",
    "Route 66 crosses the following cities in the US: Chicago, Springfield, Saint-Louis, Tulsa, Oklahoma City, Amarillo, Santa Fe, Albuquerque, Flagstaff, Los Angeles.\n",
    "\n",
    "The corresponding positions in miles are: 0, 198, 303, 736, 871, 1175, 1475, 1544, 1913, 2448\n",
    "\n",
    "  * Build a 2D grid of distances among each city along Route 66\n",
    "  * Convert the distances in km"
   ]
  },
  {
   "cell_type": "code",
   "execution_count": 6,
   "metadata": {},
   "outputs": [
    {
     "name": "stdout",
     "output_type": "stream",
     "text": [
      "1. Build a 2D grid of distances between each pair of cities along route 66\n",
      "[[   0  198  303  736  871 1175 1475 1544 1913 2448]\n",
      " [ 198  396  501  934 1069 1373 1673 1742 2111 2646]\n",
      " [ 303  501  606 1039 1174 1478 1778 1847 2216 2751]\n",
      " [ 736  934 1039 1472 1607 1911 2211 2280 2649 3184]\n",
      " [ 871 1069 1174 1607 1742 2046 2346 2415 2784 3319]\n",
      " [1175 1373 1478 1911 2046 2350 2650 2719 3088 3623]\n",
      " [1475 1673 1778 2211 2346 2650 2950 3019 3388 3923]\n",
      " [1544 1742 1847 2280 2415 2719 3019 3088 3457 3992]\n",
      " [1913 2111 2216 2649 2784 3088 3388 3457 3826 4361]\n",
      " [2448 2646 2751 3184 3319 3623 3923 3992 4361 4896]]\n",
      "\n",
      "2. Convert the distances in km\n",
      "[[0.    0.198 0.303 0.736 0.871 1.175 1.475 1.544 1.913 2.448]\n",
      " [0.198 0.396 0.501 0.934 1.069 1.373 1.673 1.742 2.111 2.646]\n",
      " [0.303 0.501 0.606 1.039 1.174 1.478 1.778 1.847 2.216 2.751]\n",
      " [0.736 0.934 1.039 1.472 1.607 1.911 2.211 2.28  2.649 3.184]\n",
      " [0.871 1.069 1.174 1.607 1.742 2.046 2.346 2.415 2.784 3.319]\n",
      " [1.175 1.373 1.478 1.911 2.046 2.35  2.65  2.719 3.088 3.623]\n",
      " [1.475 1.673 1.778 2.211 2.346 2.65  2.95  3.019 3.388 3.923]\n",
      " [1.544 1.742 1.847 2.28  2.415 2.719 3.019 3.088 3.457 3.992]\n",
      " [1.913 2.111 2.216 2.649 2.784 3.088 3.388 3.457 3.826 4.361]\n",
      " [2.448 2.646 2.751 3.184 3.319 3.623 3.923 3.992 4.361 4.896]]\n",
      "\n"
     ]
    }
   ],
   "source": [
    "def broadcastRoute():\n",
    "    m = np.array([0, 198 ,303 ,736, 871, 1175, 1475, 1544, 1913, 2448])\n",
    "    n =m[:, np.newaxis]\n",
    "    #citym = np.array(['Chicago', 'Springfield', 'Saint-Louis', 'Tulsa', 'Oklahoma City', 'Amarillo', 'Santa Fe', 'Albuquerque', 'Flagstaff', 'Los Angeles'])\n",
    "    #cityn = citym[:, np.newaxis]\n",
    "    v = m+n     \n",
    "    print(\"1. Build a 2D grid of distances between each pair of cities along route 66\")\n",
    "    print(v,end='\\n\\n')\n",
    "    print(\"2. Convert the distances in km\")\n",
    "    print(v/1000,end='\\n\\n')\n",
    "\n",
    "\n",
    "broadcastRoute()"
   ]
  },
  {
   "cell_type": "markdown",
   "metadata": {},
   "source": [
    "7\\. **Prime numbers sieve**\n",
    "\n",
    "Compute the prime numbers in the 0-N (start with N=99) range with a sieve (mask).\n",
    "\n",
    "  * Construct a shape (N,) boolean array, which is the mask\n",
    "  * Identify the multiples of each number starting from 2 and set accordingly the corresponding mask element\n",
    "  * Apply the mask to obtain an array of ordered prime numbers\n",
    "  * Check the performances (with `timeit`); how does it scale with N?\n",
    "  * Implement the optimization suggested in the [sieve of Eratosthenes](https://en.wikipedia.org/wiki/Sieve_of_Eratosthenes)"
   ]
  },
  {
   "cell_type": "code",
   "execution_count": 7,
   "metadata": {},
   "outputs": [
    {
     "name": "stderr",
     "output_type": "stream",
     "text": [
      "/var/folders/qz/qk6dlk4j0617p8dd29pkz4r80000gn/T/ipykernel_32061/1517178666.py:3: DeprecationWarning: `np.bool` is a deprecated alias for the builtin `bool`. To silence this warning, use `bool` by itself. Doing this will not modify any behavior and is safe. If you specifically wanted the numpy scalar type, use `np.bool_` here.\n",
      "Deprecated in NumPy 1.20; for more details and guidance: https://numpy.org/devdocs/release/1.20.0-notes.html#deprecations\n",
      "  sieve = np.ones(N, dtype=np.bool)\n"
     ]
    },
    {
     "name": "stdout",
     "output_type": "stream",
     "text": [
      "127 µs ± 47.4 µs per loop (mean ± std. dev. of 7 runs, 10,000 loops each)\n",
      "778 µs ± 62.8 µs per loop (mean ± std. dev. of 7 runs, 1,000 loops each)\n",
      "10.7 ms ± 838 µs per loop (mean ± std. dev. of 7 runs, 100 loops each)\n"
     ]
    },
    {
     "name": "stderr",
     "output_type": "stream",
     "text": [
      "/var/folders/qz/qk6dlk4j0617p8dd29pkz4r80000gn/T/ipykernel_32061/1517178666.py:13: DeprecationWarning: `np.bool` is a deprecated alias for the builtin `bool`. To silence this warning, use `bool` by itself. Doing this will not modify any behavior and is safe. If you specifically wanted the numpy scalar type, use `np.bool_` here.\n",
      "Deprecated in NumPy 1.20; for more details and guidance: https://numpy.org/devdocs/release/1.20.0-notes.html#deprecations\n",
      "  sieve = np.ones(N, dtype=np.bool)\n"
     ]
    },
    {
     "name": "stdout",
     "output_type": "stream",
     "text": [
      "36.8 µs ± 2.94 µs per loop (mean ± std. dev. of 7 runs, 10,000 loops each)\n"
     ]
    }
   ],
   "source": [
    "def primeNumbersSieve(N):\n",
    "    #print(\"1. Find all the prime numbers less than\",N)\n",
    "    sieve = np.ones(N, dtype=np.bool)\n",
    "    sieve[0] = False\n",
    "    sieve[1] = False\n",
    "    for i in range(2, N):\n",
    "        for j in range(2*i, N, i):\n",
    "            sieve[j] = False\n",
    "    #print(np.nonzero(sieve)[0],end='\\n\\n')\n",
    "\n",
    "def primeNumbersEratosthenes(N):\n",
    "   # print('2. Implement the Sieve of Eratosthenes')\n",
    "    sieve = np.ones(N, dtype=np.bool)\n",
    "    sieve[0] = False\n",
    "    sieve[1] = False\n",
    "    for i in range(2, int(np.sqrt(N)) + 1):\n",
    "        if sieve[i]:\n",
    "            sieve[2*i::i] = False\n",
    "    #print(np.nonzero(sieve)[0],end='\\n\\n')\n",
    "\n",
    "\n",
    "\n",
    "\n",
    "%timeit primeNumbersSieve(99)\n",
    "%timeit primeNumbersSieve(990)\n",
    "%timeit primeNumbersSieve(9900)\n",
    "%timeit primeNumbersEratosthenes(9900)"
   ]
  },
  {
   "cell_type": "markdown",
   "metadata": {},
   "source": [
    "8\\. **Diffusion using random walk**\n",
    "\n",
    "Consider a simple random walk process: at each step in time, a walker jumps right or left (+1 or -1) with equal probability. The goal is to find the typical distance from the origin of many random walkers after a given amount of time.\n",
    "\n",
    "*Hint*: create a 2D array where each row represents a walker, and each column represents a time step.\n",
    "\n",
    "  * Take 1000 walkers and let them walk for 200 steps\n",
    "  * Use `randint` to create a 2D array of size $walkers \\times steps$ with values -1 or 1\n",
    "  * Calculate the walking distances for each walker (e.g. by summing the elements in each row)\n",
    "  * Take the square of the previously-obtained array (element-wise)\n",
    "  * Compute the mean of the squared distances at each step (i.e. the mean along the columns)\n",
    "  * **Optional**: plot the average distances ($\\sqrt(distance^2)$) as a function of time (step)"
   ]
  },
  {
   "cell_type": "code",
   "execution_count": 9,
   "metadata": {},
   "outputs": [
    {
     "name": "stdout",
     "output_type": "stream",
     "text": [
      "Distance for every walker [ -6 -28   6   2 -32   8 -14 -18   0 -20  10  12 -14  22 -28 -12 -16  20\n",
      " -12  20 -16 -10 -32  20 -30 -22 -12 -10  16   0 -16   0  36 -22  -8 -30\n",
      "   0   4   0   2  -6  -6  -8 -16  32  18 -14 -14 -18   8 -24 -12  -8  12\n",
      "  -4  -4   6   8   6  -6   0 -20   0   2  -6   8 -14  10  16  -4  -8 -10\n",
      "   0  32   8   4 -12   0  16  12   6   6  16  28  -4  22  26  -4 -20  10\n",
      "  14  -8 -18   0   4  -8  14  -8   6 -30   6 -16  16   4  -2   8 -16  -4\n",
      "   8   4  -6 -16   2  22   8  -2  10  -4  -4   6   2 -14  -6  -8  18  -6\n",
      " -12  24 -12 -20   2 -10  10 -18  26   8   2 -12  18 -22  10  24   8 -18\n",
      "   2 -20 -20  10 -22  -4  -4   6  -2   0  -4  10 -20  14   0  -6   6  26\n",
      "  14  -4  16  12 -14 -16  -2  14   0 -10  -6   8   2   6  10  -8   6  12\n",
      " -26  -2  20  -2  12   0  -4 -34   2  -4  18 -18   8  -2   0   6  12  10\n",
      "   0  20 -14 -10   4  28   2   2 -18  10  -4  -4  18 -20  -2  16  20  -4\n",
      "   4  -4 -26   8  -2   0   0   4 -18  30   6  12 -10  -8   0  -8 -24  -4\n",
      " -14 -12  -6 -10 -10   8   6  18   6  -8 -16  18  -8  -2  -4   4 -14   8\n",
      " -10  -4 -16   0  32  -2   2 -12  -8 -10 -12 -10 -16 -36   8 -16  -6  14\n",
      " -26 -22   0  -2   0  30  24   2 -26  -2  12 -12 -12  14   8  14 -32  10\n",
      "  12   8 -20  26  -8  -6 -18  18   0 -12  -6  14  22   4 -32  -2   8  22\n",
      "   2  -4 -18  -6   4   4  -4   2  12  24   2 -12   8 -12  -8  -2 -10  18\n",
      "   2  12 -18   6   0 -14  -8 -12   6   0   6 -22   8   0  34  -6 -24  10\n",
      "  12  14  -4 -16  22 -24 -10   0  -4  16 -30  -2  10 -20   6  -8  -6  -6\n",
      " -16  40   4   8  20  -6 -20  32  -2   6   0 -12  22  -8 -12  12  -2  -2\n",
      "  -6  14 -18  10  -2   8   4  -8   0  18  -2   2   0   6 -16  -2  14  -4\n",
      "   2   2   0  14  14   6  14 -26   6   4  32  10  28  -6  -4  -4   2  -6\n",
      "   6 -20   0   6 -36  -8 -34  16   2 -26  22 -14  14  -2   4   0  40  -2\n",
      "  -2   8  28 -16 -10  16  10   0  30  16   0  16  -2  -2   8  -2 -16   6\n",
      " -12 -22  26  -8  10 -14 -10   6 -14   8 -22  -2   6  -2 -28  -4 -10 -32\n",
      "  24   2  -4 -14   2  -4   4 -28  -6 -18  22 -14 -10   6  -8  -2  -6 -16\n",
      "  -4  -8   4  -2  18  -6   2   2   4   6   8   4  10   6  18   0  10 -10\n",
      "  18   0  34 -24  -2  -8 -20  30  10 -28  10   4  32  -4  12 -10  22 -10\n",
      "   0  10   8 -26 -12  16  32   8   2  22  -6  -4  14  -6   0  18  -2  -6\n",
      "  -2 -12   4 -28   8   8 -12   4 -28 -10 -10  18  12  -6   4 -16  38  -6\n",
      "   4   4 -14 -10  14 -24  14   0 -26  26  -4  -6 -10   4  -6  18  -6 -12\n",
      "  18 -22   6  -6  -2  10 -14 -24  -4 -14 -22   6 -14  -2   6  -8  -2  -8\n",
      "  28 -24 -14  18  -6  20  24  -2  -6   4  12 -12  20   2   6 -12  -2  22\n",
      "  -6 -16   6   2 -20  -4 -36  -4 -14 -20  -4  -2  -6  -8 -10  16  -4 -38\n",
      "  22   6  22  16  10   0  -6   2   8  10   2  22 -20  34  -8  36   0   0\n",
      "  14 -12  28  10 -26 -10  -4   0 -16  34   0   4 -26 -24   2  -2   0  10\n",
      "   0 -24  -4  -4   2   2  14  16  -8  -4  28  12  -2   2   2   8   6  12\n",
      "  34  -8   0   2   0 -12  22 -10 -18   0   0   0  18   2   2  -8  -2  -2\n",
      "   0  -6  -8 -24  10   8  28  -2  16 -12   4  -6 -20   4   6 -40 -16  -2\n",
      "  16  -8  -6 -18   2  -2   0   6   8 -10   6   4   8   8  14   2  16 -26\n",
      "  -2 -18   8 -10 -18   4  12  12  14  12 -20  12 -20  18 -10   2   2   4\n",
      " -10   8 -12  -4   8 -16 -18   0   6 -12  20  14  -2 -10   6   4  -2 -10\n",
      " -12  -2  -2   0  20 -18  20   2 -14  16  14 -10  -4 -16  -2 -10  -6   6\n",
      " -30   6   0   2  16  22 -24  28  -2 -22   2 -12  24  -6  -4  12   6  40\n",
      " -20  26 -10 -10   6 -18 -10 -10   2  -4 -10 -16  -4  -8   4  14  -8  10\n",
      "  26 -22  18 -24 -18   2   0   6  -2   2 -24  -4  16  -2 -30  22 -22 -22\n",
      "  22   6   4  -8   2 -12   0  -2  12   6   8   6  -8 -24   8   4  -6   0\n",
      "   0  20   0  -4  -4  -6  10  30  10 -20  -4   4   8  -6  18   2   2 -26\n",
      "  14  -8   2 -24  -2 -10   2   6 -28   4  -4  22   4   4   0  12  -2   2\n",
      " -12  10 -26  12 -24  18  12  30   0 -12  -6   8  36   4  24 -36 -22   6\n",
      "  22  -8  -8 -16  16 -10   0   6   0  18 -16 -20   6   4  -6  -2   6  -2\n",
      "   8  -4  12  -2  -8  -4   0  -8 -20  -2   6   2   6   0 -24 -14  28  18\n",
      "   4  -6   6  12  18  -6   0  -2 -16   4 -22  -2  18   2  18  12   6  -6\n",
      "   4  18 -36   4  -8  -2  -4  -8  -8  24   4 -20   2   8  22 -26  26   0\n",
      "   2  14  -6 -22  10 -12 -10  -4 -14 -18]\n",
      "\n",
      "Mean of squared distances at each step [1.0, 1.94, 2.92, 3.872, 4.728, 5.832, 6.448, 7.452, 8.504, 9.348, 10.368, 10.844, 11.688, 12.688, 13.472, 14.244, 15.712, 16.34, 16.944, 17.872, 18.728, 19.784, 20.68, 21.692, 22.704, 23.528, 24.904, 26.18, 26.936, 27.98, 29.304, 30.308, 31.144, 32.328, 33.928, 35.292, 36.896, 38.032, 38.528, 39.388, 39.992, 40.244, 41.4, 42.144, 42.48, 42.932, 43.16, 44.136, 44.696, 44.976, 45.824, 46.544, 47.376, 48.508, 49.672, 50.592, 50.744, 51.764, 53.048, 53.504, 55.424, 56.176, 58.152, 58.596, 59.768, 60.668, 61.504, 62.556, 63.8, 65.924, 66.912, 67.72, 69.832, 71.248, 72.672, 74.352, 76.136, 76.792, 79.032, 80.156, 81.504, 81.732, 83.672, 84.616, 85.48, 86.164, 87.672, 88.408, 90.272, 91.368, 92.496, 93.68, 95.056, 96.156, 96.928, 98.648, 100.128, 100.82, 102.032, 103.852, 104.12, 104.412, 104.44, 105.616, 107.888, 107.844, 108.536, 110.508, 110.912, 112.24, 113.224, 114.328, 115.232, 116.912, 117.616, 118.008, 118.856, 119.548, 121.016, 121.824, 123.296, 125.056, 125.248, 126.24, 126.984, 127.6, 128.656, 129.608, 131.888, 132.456, 134.008, 134.224, 136.016, 136.312, 136.64, 138.052, 139.016, 140.66, 141.6, 141.556, 142.184, 144.552, 145.784, 146.412, 148.792, 148.664, 149.904, 150.836, 151.896, 152.492, 152.808, 154.284, 155.44, 155.908, 156.064, 157.532, 158.112, 159.468, 160.256, 160.448, 163.104, 164.872, 165.68, 166.456, 166.568, 167.688, 169.8, 171.224, 172.376, 173.704, 173.2, 174.124, 175.336, 175.292, 176.12, 177.092, 177.808, 177.908, 178.752, 179.392, 181.08, 181.428, 183.24, 184.568, 185.912, 186.468, 187.032, 186.224, 188.136, 189.312, 190.648, 192.364, 194.392, 195.276, 195.04, 196.064, 195.92, 195.744, 197.872, 199.496]\n",
      "\n"
     ]
    },
    {
     "data": {
      "image/png": "[encoded data removed]",
      "text/plain": [
       "<Figure size 640x480 with 1 Axes>"
      ]
     },
     "metadata": {},
     "output_type": "display_data"
    }
   ],
   "source": [
    "def diffusionUsingRandomWalk():\n",
    "    walk = 2* np.random.randint(0,2,size=(1000,200))-1\n",
    "    #print(walk)\n",
    "    #print(np.shape(walk))\n",
    "    walk_distance = np.sum(walk,axis=1) #sum of each row\n",
    "    print('Distance for every walker',walk_distance,end='\\n\\n')\n",
    "    #print(np.shape(walk_distance))\n",
    "    walk_square = np.square(walk_distance)\n",
    "    #print(walk_square)\n",
    "    #print(np.shape(walk_square))\n",
    "\n",
    "    walk_distance_each_step = np.cumsum(walk,axis=1)\n",
    "    walk_square_each_step = np.square(walk_distance_each_step)\n",
    "    walk_mean_each_step = []\n",
    "    for i in range(200):\n",
    "        k = np.mean(walk_square_each_step[:,i])\n",
    "        walk_mean_each_step.append(k)\n",
    "    \n",
    "    print('Mean of squared distances at each step',walk_mean_each_step,end='\\n\\n')\n",
    "    plt.plot(walk_mean_each_step,np.linspace(1,200,200))\n",
    "    \n",
    "\n",
    "\n",
    "'''\n",
    "    1  +1  +1  +1    = +3   =  1/1 , 4/2 =2 , 9/3 = 3\n",
    "    2  +1  -1  -1     = -1   =  1/1 , 0/2 =0 , 1/3 = 1/3\n",
    "    3  +1  +1  +1    = +3 \n",
    "'''\n",
    "\n",
    "\n",
    "diffusionUsingRandomWalk()"
   ]
  }
 ],
 "metadata": {
  "kernelspec": {
   "display_name": "Python 3.10.8 ('ScientificComputingWithPython2022-ThNe_YWt')",
   "language": "python",
   "name": "python3"
  },
  "language_info": {
   "codemirror_mode": {
    "name": "ipython",
    "version": 3
   },
   "file_extension": ".py",
   "mimetype": "text/x-python",
   "name": "python",
   "nbconvert_exporter": "python",
   "pygments_lexer": "ipython3",
   "version": "3.10.8"
  },
  "vscode": {
   "interpreter": {
    "hash": "6d2726d78c6ce3fcc64c6214e2a6a88a90bc1b6a9fbfbe561604adaad5358887"
   }
  }
 },
 "nbformat": 4,
 "nbformat_minor": 2
}
