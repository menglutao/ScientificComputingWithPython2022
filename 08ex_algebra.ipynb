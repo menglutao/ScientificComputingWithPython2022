{
 "cells": [
  {
   "cell_type": "code",
   "execution_count": 1,
   "metadata": {},
   "outputs": [],
   "source": [
    "import numpy as np\n",
    "from scipy import linalg as la\n",
    "from matplotlib import pyplot as plt"
   ]
  },
  {
   "cell_type": "markdown",
   "metadata": {},
   "source": [
    "1\\. **PCA on 3D dataset**\n",
    "\n",
    "* Generate a dataset simulating 3 features, each with N entries (N being ${\\cal O}(1000)$). Each feature is made by random numbers generated according the normal distribution $N(\\mu,\\sigma)$ with mean $\\mu_i$ and standard deviation $\\sigma_i$, with $i=1, 2, 3$. Generate the 3 variables $x_{i}$ such that:\n",
    "    * $x_1$ is distributed as $N(0,1)$\n",
    "    * $x_2$ is distributed as $x_1+N(0,3)$\n",
    "    * $x_3$ is given by $2x_1+x_2$\n",
    "* Find the eigenvectors and eigenvalues using the eigendecomposition of the covariance matrix\n",
    "* Find the eigenvectors and eigenvalues using the SVD. Check that the two procedures yield to same result\n",
    "* What percent of the total dataset's variability is explained by the principal components? Given how the dataset was constructed, do these make sense? Reduce the dimensionality of the system so that at least 99% of the total variability is retained\n",
    "* Redefine the data according to the new basis from the PCA\n",
    "* Plot the data, in both the original and the new basis. The figure should have 2 rows (the original and the new basis) and 3 columns (the $[x_0, x_1]$, $[x_0, x_2]$ and $[x_1, x_2]$ projections) of scatter plots."
   ]
  },
  {
   "cell_type": "code",
   "execution_count": 60,
   "metadata": {},
   "outputs": [
    {
     "name": "stdout",
     "output_type": "stream",
     "text": [
      "(1000, 1000)\n",
      "-------Find the eigenvectors and eigenvalues using eigendecomposition of the covariance matrix------\n",
      "The eigenvalues  (1000,)\n",
      "\n",
      "The eigenvectors are (1000, 1000)\n",
      "\n",
      "-------Find the eigenvectors and eigenvalues using the SVD------\n",
      "The explained variability is (0.14780235479556772-3.910105930763458e-33j)\n",
      "\n"
     ]
    }
   ],
   "source": [
    "\n",
    "N = 1000 # number of entries\n",
    "\n",
    "def exercise_1(N):    \n",
    "    mu1 = 0 # mean of x1\n",
    "    sigma1 = 1 # standard deviation of x1\n",
    "    mu2 = 0 # mean of x2\n",
    "    sigma2 = 3 # standard deviation of x2\n",
    "\n",
    "    x1 = np.random.normal(mu1, sigma1, N)\n",
    "   \n",
    "    x2 = x1 + np.random.normal(mu2, sigma2, N)\n",
    "    x3 = 2*x1 + x2\n",
    "\n",
    "    A = np.stack((x1, x2, x3), axis=1)\n",
    "    #print(A,A.shape) # 1000x3 matrix\n",
    "\n",
    "\n",
    "\n",
    "    # compute covariance matrix\n",
    "    cov_matrix = np.cov(A)\n",
    "    print(cov_matrix.shape)\n",
    "\n",
    "    print('-------Find the eigenvectors and eigenvalues using eigendecomposition of the covariance matrix------')\n",
    "    # find eigenvectors and eigenvalues\n",
    "    eigenvalues, eigenvectors = np.linalg.eig(cov_matrix)\n",
    "    print('The eigenvalues ',eigenvalues.shape,end='\\n\\n')\n",
    "    print('The eigenvectors are',eigenvectors.shape,end='\\n\\n')\n",
    "\n",
    "    print('-------Find the eigenvectors and eigenvalues using the SVD------')\n",
    "\n",
    "    # find eigenvectors and eigenvalues using SVD\n",
    "    # Compute the SVD of the matrix\n",
    "    # Compute the singular value decomposition of the dataset\n",
    "    U, S, V = np.linalg.svd(A)\n",
    "\n",
    "\n",
    "    # Check that the eigenvectors from the covariance matrix are equal to the left singular vectors from the SVD\n",
    "    #assert np.allclose(eigenvectors, U)\n",
    "\n",
    "    # Check that the eigenvalues from the covariance matrix are equal to the squared singular values from the SVD\n",
    "    #assert np.allclose(eigenvalues, S**2)\n",
    "\n",
    "    # Compute the percent of the total dataset's variability explained by the principal components\n",
    "    explained_variability = eigenvalues.sum() / (S**2).sum()\n",
    "    print('The explained variability is',explained_variability,end='\\n\\n')\n",
    "\n",
    "    # Sort the eigenvalues in descending order\n",
    "    sorted_eigenvalues = np.sort(eigenvalues)[::-1]\n",
    "\n",
    "    # Compute the cumulative sum of the eigenvalues\n",
    "    cumulative_sum = np.cumsum(sorted_eigenvalues)\n",
    "\n",
    "    # Determine the number of\n",
    "\n",
    "\n",
    "\n",
    "\n",
    "\n",
    "\n",
    "exercise_1(N)\n"
   ]
  },
  {
   "cell_type": "markdown",
   "metadata": {},
   "source": [
    "2\\. **PCA on a nD dataset**\n",
    "\n",
    "* Start from the dataset you have genereted in the previous exercise and add uncorrelated random noise. Such noise should be represented by other 10 uncorrelated variables normally distributed, with a standard deviation much smaller (e.g. a factor 20) than those used to generate the $x_1$ and $x_2$. Repeat the PCA procedure and compare the results with what you have obtained before."
   ]
  },
  {
   "cell_type": "code",
   "execution_count": null,
   "metadata": {},
   "outputs": [],
   "source": []
  },
  {
   "cell_type": "markdown",
   "metadata": {},
   "source": [
    "3\\. **Optional**: **PCA on the MAGIC dataset**\n",
    "\n",
    "Perform a PCA on the magic04.data dataset."
   ]
  },
  {
   "cell_type": "code",
   "execution_count": null,
   "metadata": {},
   "outputs": [],
   "source": [
    "# get the dataset and its description on the proper data directory\n",
    "#!wget https://archive.ics.uci.edu/ml/machine-learning-databases/magic/magic04.data -P data/\n",
    "#!wget https://archive.ics.uci.edu/ml/machine-learning-databases/magic/magic04.names -P data/ "
   ]
  },
  {
   "cell_type": "code",
   "execution_count": null,
   "metadata": {},
   "outputs": [],
   "source": []
  }
 ],
 "metadata": {
  "kernelspec": {
   "display_name": "Python 3.10.8 ('ScientificComputingWithPython2022-ThNe_YWt')",
   "language": "python",
   "name": "python3"
  },
  "language_info": {
   "codemirror_mode": {
    "name": "ipython",
    "version": 3
   },
   "file_extension": ".py",
   "mimetype": "text/x-python",
   "name": "python",
   "nbconvert_exporter": "python",
   "pygments_lexer": "ipython3",
   "version": "3.10.8"
  },
  "vscode": {
   "interpreter": {
    "hash": "6d2726d78c6ce3fcc64c6214e2a6a88a90bc1b6a9fbfbe561604adaad5358887"
   }
  }
 },
 "nbformat": 4,
 "nbformat_minor": 2
}
